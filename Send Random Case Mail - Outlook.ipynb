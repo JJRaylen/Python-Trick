{
 "cells": [
  {
   "cell_type": "code",
   "execution_count": 3,
   "id": "e72eb514",
   "metadata": {},
   "outputs": [],
   "source": [
    "#INSTALL MSAL Client Lib"
   ]
  },
  {
   "cell_type": "code",
   "execution_count": 4,
   "id": "fce6777b",
   "metadata": {},
   "outputs": [
    {
     "name": "stdout",
     "output_type": "stream",
     "text": [
      "Collecting msal\n",
      "  Downloading msal-1.28.0-py3-none-any.whl (102 kB)\n",
      "     ------------------------------------- 102.2/102.2 kB 64.6 kB/s eta 0:00:00\n",
      "Requirement already satisfied: cryptography<45,>=0.6 in d:\\study\\python project\\new folder\\lib\\site-packages (from msal) (37.0.1)\n",
      "Requirement already satisfied: requests<3,>=2.0.0 in d:\\study\\python project\\new folder\\lib\\site-packages (from msal) (2.28.1)\n",
      "Requirement already satisfied: PyJWT[crypto]<3,>=1.0.0 in d:\\study\\python project\\new folder\\lib\\site-packages (from msal) (2.4.0)\n",
      "Requirement already satisfied: cffi>=1.12 in d:\\study\\python project\\new folder\\lib\\site-packages (from cryptography<45,>=0.6->msal) (1.15.1)\n",
      "Requirement already satisfied: certifi>=2017.4.17 in d:\\study\\python project\\new folder\\lib\\site-packages (from requests<3,>=2.0.0->msal) (2022.9.14)\n",
      "Requirement already satisfied: idna<4,>=2.5 in d:\\study\\python project\\new folder\\lib\\site-packages (from requests<3,>=2.0.0->msal) (3.3)\n",
      "Requirement already satisfied: urllib3<1.27,>=1.21.1 in d:\\study\\python project\\new folder\\lib\\site-packages (from requests<3,>=2.0.0->msal) (1.26.11)\n",
      "Requirement already satisfied: charset-normalizer<3,>=2 in d:\\study\\python project\\new folder\\lib\\site-packages (from requests<3,>=2.0.0->msal) (2.0.4)\n",
      "Requirement already satisfied: pycparser in d:\\study\\python project\\new folder\\lib\\site-packages (from cffi>=1.12->cryptography<45,>=0.6->msal) (2.21)\n",
      "Installing collected packages: msal\n",
      "Successfully installed msal-1.28.0\n",
      "Note: you may need to restart the kernel to use updated packages.\n"
     ]
    }
   ],
   "source": [
    "pip install msal"
   ]
  },
  {
   "cell_type": "code",
   "execution_count": 5,
   "id": "0d5a6623",
   "metadata": {},
   "outputs": [],
   "source": [
    "import webbrowser\n",
    "from datetime import datetime\n",
    "import json\n",
    "import os\n",
    "import msal"
   ]
  },
  {
   "cell_type": "code",
   "execution_count": null,
   "id": "7343370d",
   "metadata": {},
   "outputs": [],
   "source": [
    "import webbrowser\n",
    "from datetime import datetime\n",
    "import json\n",
    "import os\n",
    "import msal\n",
    "\n",
    "GRAPH_API_ENDPOINT = 'https://graph.microsoft.com/v1.0'\n",
    "\n",
    "def generate_access_token(app_id, scopes):\n",
    "    # Save Session Token as a token file\n",
    "    access_token_cache = msal.SerializableTokenCache()\n",
    "\n",
    "    # read the token file\n",
    "    if os.path.exists('ms_graph_api_token.json'):\n",
    "        access_token_cache.deserialize(open(\"ms_graph_api_token.json\", \"r\").read())\n",
    "        token_detail = json.load(open('ms_graph_api_token.json',))\n",
    "        token_detail_key = list(token_detail['AccessToken'].keys())[0]\n",
    "        token_expiration = datetime.fromtimestamp(int(token_detail['AccessToken'][token_detail_key]['expires_on']))\n",
    "        if datetime.now() > token_expiration:\n",
    "            os.remove('ms_graph_api_token.json')\n",
    "            access_token_cache = msal.SerializableTokenCache()\n",
    "\n",
    "    # assign a SerializableTokenCache object to the client instance\n",
    "    client = msal.PublicClientApplication(client_id=app_id, token_cache=access_token_cache)\n",
    "\n",
    "    accounts = client.get_accounts()\n",
    "    if accounts:\n",
    "        # load the session\n",
    "        token_response = client.acquire_token_silent(scopes, accounts[0])\n",
    "    else:\n",
    "        # authetnicate your accoutn as usual\n",
    "        flow = client.initiate_device_flow(scopes=scopes)\n",
    "        print('user_code: ' + flow['user_code'])\n",
    "        webbrowser.open('https://microsoft.com/devicelogin')\n",
    "        token_response = client.acquire_token_by_device_flow(flow)\n",
    "\n",
    "    with open('ms_graph_api_token.json', 'w') as _f:\n",
    "        _f.write(access_token_cache.serialize())\n",
    "\n",
    "    return token_response\n",
    "\n",
    "if __name__ == '__main__':\n",
    "    ...\n"
   ]
  }
 ],
 "metadata": {
  "kernelspec": {
   "display_name": "Python 3 (ipykernel)",
   "language": "python",
   "name": "python3"
  },
  "language_info": {
   "codemirror_mode": {
    "name": "ipython",
    "version": 3
   },
   "file_extension": ".py",
   "mimetype": "text/x-python",
   "name": "python",
   "nbconvert_exporter": "python",
   "pygments_lexer": "ipython3",
   "version": "3.9.13"
  }
 },
 "nbformat": 4,
 "nbformat_minor": 5
}
